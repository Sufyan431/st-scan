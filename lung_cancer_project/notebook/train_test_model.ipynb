version https://git-lfs.github.com/spec/v1
oid sha256:17e246d2adefaf80967a3a476cfcf32d5fa00b7e2a506a1bde6d188c59f6882a
size 25641
